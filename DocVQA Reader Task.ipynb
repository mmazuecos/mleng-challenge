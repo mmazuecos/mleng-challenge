{
 "cells": [
  {
   "cell_type": "markdown",
   "metadata": {
    "application/vnd.databricks.v1+cell": {
     "cellMetadata": {},
     "inputWidgets": {},
     "nuid": "0b305a68-4399-42cf-9411-ffb4a5ca87df",
     "showTitle": false,
     "title": ""
    }
   },
   "source": [
    "### Task Description\n",
    "You're gonna create a dataset reader for the Visual Document Question Answering task.\n",
    "+ Get the dataset from this [link](https://rrc.cvc.uab.es/?ch=17&com=downloads)\n",
    "+ You must support reading the train and test datasets.\n",
    "+ You must support the super simple interface readDataset()\n",
    "+ The schema should be as provided in the cell below(check details)\n",
    "+ Provide a github repo, and setup instructions.\n",
    "+ I will test this in a cluster, so it must serialize things properly(from one executor to another, from one node to another).\n",
    "+ Write the solution in Scala, with Python wrappers, so that it can be called this way, "
   ]
  },
  {
   "cell_type": "code",
   "execution_count": null,
   "metadata": {},
   "outputs": [],
   "source": [
    "from pyspark.sql.session import SparkSession\n",
    "spark = SparkSession \\\n",
    ".builder \\\n",
    ".appName(\"scala_pyspark\") \\\n",
    ".config(\"spark.jars\", \"./docvqareader_2.12-0.1.jar\") \\\n",
    ".getOrCreate()"
   ]
  },
  {
   "cell_type": "code",
   "execution_count": null,
   "metadata": {
    "application/vnd.databricks.v1+cell": {
     "cellMetadata": {},
     "inputWidgets": {},
     "nuid": "f5b382e7-26b8-4a41-afff-48aa294cf418",
     "showTitle": false,
     "title": ""
    }
   },
   "outputs": [],
   "source": [
    "from jsl.task.docvqa_reader import DocVQA\n",
    "\n",
    "# this is the path in which the .json file is located\n",
    "path = \"filesystem:/path/to/{val, train}\"\n",
    "df = DocVQA().readDataset(spark, path)"
   ]
  },
  {
   "cell_type": "markdown",
   "metadata": {
    "application/vnd.databricks.v1+cell": {
     "cellMetadata": {},
     "inputWidgets": {},
     "nuid": "b142e949-df58-4245-be5d-f0c8a7a5756b",
     "showTitle": false,
     "title": ""
    }
   },
   "source": [
    "### Schema\n",
    "This is what the schema of the returned Dataframe should look like. The idea is that each row will contain a number of questions, and each of these questions will have multiple answers, on the same row.\n",
    "+ path: path to the file, it can be on a DFS.\n",
    "+ modificationTime: this value comes from the OS.\n",
    "+ questions: an array of questions.\n",
    "+ answers: a 2D array with each inner level array providing a set of candidate answers for each question in that same row.\n",
    "+ a binary buffer containing the image(see 'content' field below).\n",
    "\n",
    "Check the dataset JSON schema in the dataset for more details."
   ]
  },
  {
   "cell_type": "code",
   "execution_count": null,
   "metadata": {
    "application/vnd.databricks.v1+cell": {
     "cellMetadata": {},
     "inputWidgets": {},
     "nuid": "d1161776-e0e4-43ae-a873-a3e86800992a",
     "showTitle": false,
     "title": ""
    }
   },
   "outputs": [
    {
     "data": {
      "text/plain": [
       "root\n",
       " |-- path: string (nullable = true)\n",
       " |-- modificationTime: timestamp (nullable = true)\n",
       " |-- length: long (nullable = true)\n",
       " |-- content: binary (nullable = true)\n",
       " |-- questions: array (nullable = true)\n",
       " |    |-- element: string (containsNull = true)\n",
       " |-- answers: array (nullable = true)\n",
       " |    |-- element: array (containsNull = true)\n",
       " |    |    |-- element: string (containsNull = true)\n",
       "\n"
      ]
     },
     "metadata": {
      "application/vnd.databricks.v1+output": {
       "addedWidgets": {},
       "arguments": {},
       "data": "root\n |-- path: string (nullable = true)\n |-- modificationTime: timestamp (nullable = true)\n |-- length: long (nullable = true)\n |-- content: binary (nullable = true)\n |-- questions: array (nullable = true)\n |    |-- element: string (containsNull = true)\n |-- answers: array (nullable = true)\n |    |-- element: array (containsNull = true)\n |    |    |-- element: string (containsNull = true)\n\n",
       "datasetInfos": [],
       "metadata": {},
       "name": null,
       "removedWidgets": [],
       "type": "ansi"
      }
     },
     "output_type": "display_data"
    }
   ],
   "source": [
    "df.printSchema()"
   ]
  },
  {
   "cell_type": "markdown",
   "metadata": {},
   "source": [
    "### Let's count the number of questions\n",
    "You should support all these type of operations without problems."
   ]
  },
  {
   "cell_type": "code",
   "execution_count": null,
   "metadata": {
    "application/vnd.databricks.v1+cell": {
     "cellMetadata": {},
     "inputWidgets": {},
     "nuid": "e5474dec-3150-4a2e-920a-dc9c73c5eeb9",
     "showTitle": false,
     "title": ""
    }
   },
   "outputs": [],
   "source": [
    "from pyspark.sql.functions import explode\n",
    "questions = df.select(explode(\"questions\"))"
   ]
  },
  {
   "cell_type": "code",
   "execution_count": null,
   "metadata": {
    "application/vnd.databricks.v1+cell": {
     "cellMetadata": {},
     "inputWidgets": {},
     "nuid": "36e3c9e2-e810-4b8d-b608-fb6c9e2d8a84",
     "showTitle": false,
     "title": ""
    }
   },
   "outputs": [
    {
     "data": {
      "text/plain": [
       "14:31:32, INFO Received command c on object id p0\n",
       "14:31:32, INFO Received command c on object id p0\n",
       "Out[27]: 5349"
      ]
     },
     "metadata": {
      "application/vnd.databricks.v1+output": {
       "addedWidgets": {},
       "arguments": {},
       "data": "14:31:32, INFO Received command c on object id p0\n14:31:32, INFO Received command c on object id p0\nOut[27]: 5349",
       "datasetInfos": [],
       "metadata": {},
       "name": null,
       "removedWidgets": [],
       "type": "ansi"
      }
     },
     "output_type": "display_data"
    }
   ],
   "source": [
    "questions.count()"
   ]
  },
  {
   "cell_type": "code",
   "execution_count": null,
   "metadata": {
    "application/vnd.databricks.v1+cell": {
     "cellMetadata": {},
     "inputWidgets": {},
     "nuid": "2ba88313-b70f-4301-8aae-a3a1cd76999b",
     "showTitle": false,
     "title": ""
    }
   },
   "outputs": [
    {
     "data": {
      "text/plain": [
       "Out[15]: 120"
      ]
     },
     "metadata": {
      "application/vnd.databricks.v1+output": {
       "addedWidgets": {},
       "arguments": {},
       "data": "Out[15]: 120",
       "datasetInfos": [],
       "metadata": {},
       "name": null,
       "removedWidgets": [],
       "type": "ansi"
      }
     },
     "output_type": "display_data"
    }
   ],
   "source": [
    "df.rdd.getNumPartitions()"
   ]
  }
 ],
 "metadata": {
  "application/vnd.databricks.v1+notebook": {
   "dashboards": [],
   "language": "python",
   "notebookMetadata": {
    "pythonIndentUnit": 2
   },
   "notebookName": "DocVQA Reader Task",
   "notebookOrigID": 151655299090514,
   "widgets": {}
  },
  "kernelspec": {
   "display_name": "Python 3 (ipykernel)",
   "language": "python",
   "name": "python3"
  },
  "language_info": {
   "codemirror_mode": {
    "name": "ipython",
    "version": 3
   },
   "file_extension": ".py",
   "mimetype": "text/x-python",
   "name": "python",
   "nbconvert_exporter": "python",
   "pygments_lexer": "ipython3",
   "version": "3.8.18"
  }
 },
 "nbformat": 4,
 "nbformat_minor": 4
}
